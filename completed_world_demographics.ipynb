{
 "cells": [
  {
   "cell_type": "code",
   "execution_count": null,
   "metadata": {},
   "outputs": [],
   "source": [
    "import pandas\n",
    "import numpy\n",
    "import seaborn\n",
    "import matplotlib\n",
    "import plotly\n",
    "import plotly.express"
   ]
  },
  {
   "cell_type": "code",
   "execution_count": null,
   "metadata": {},
   "outputs": [],
   "source": [
    "gapminder = pandas.read_csv('gapminder_full.csv')\n",
    "gapminder.head()"
   ]
  },
  {
   "cell_type": "code",
   "execution_count": null,
   "metadata": {},
   "outputs": [],
   "source": [
    "gapminder.set_index('country')['population'].nlargest(10).plot(\n",
    "    kind='bar',\n",
    "    figsize=(10,10)\n",
    ")"
   ]
  },
  {
   "cell_type": "code",
   "execution_count": null,
   "metadata": {},
   "outputs": [],
   "source": [
    "gapminder[\n",
    "    gapminder['year'] == 2007\n",
    "].set_index('country')['population'].nlargest(10).plot(\n",
    "    kind='bar',\n",
    "    figsize=(10,10)\n",
    ")"
   ]
  },
  {
   "cell_type": "code",
   "execution_count": null,
   "metadata": {},
   "outputs": [],
   "source": [
    "seaborn.scatterplot(x=\"gdp_cap\", y=\"life_exp\", data=gapminder)"
   ]
  },
  {
   "cell_type": "code",
   "execution_count": null,
   "metadata": {},
   "outputs": [],
   "source": [
    "seaborn.scatterplot(x=\"gdp_cap\", y=\"life_exp\", data=gapminder.query(\"year == 2007\"))"
   ]
  },
  {
   "cell_type": "code",
   "execution_count": null,
   "metadata": {},
   "outputs": [],
   "source": [
    "seaborn.scatterplot(x=\"gdp_cap\", y=\"life_exp\", hue=\"continent\", data=gapminder.query(\"year == 2007\"))"
   ]
  },
  {
   "cell_type": "code",
   "execution_count": null,
   "metadata": {},
   "outputs": [],
   "source": [
    "seaborn.scatterplot(x=\"gdp_cap\", y=\"life_exp\", hue=\"continent\", size=\"population\", data=gapminder.query(\"year == 2007\"))"
   ]
  },
  {
   "cell_type": "code",
   "execution_count": null,
   "metadata": {},
   "outputs": [],
   "source": [
    "#the same data displayed using plotly instead\n",
    "fancy_fig = plotly.express.scatter(\n",
    "    data_frame=gapminder[gapminder['year']==2007],\n",
    "    x='gdp_cap',\n",
    "    y='life_exp',\n",
    "    color='continent',\n",
    "    size='population',\n",
    "    hover_name='country')\n",
    "fancy_fig.show()"
   ]
  },
  {
   "cell_type": "code",
   "execution_count": null,
   "metadata": {},
   "outputs": [],
   "source": [
    "#with the max size explicitly defined to make it more readable\n",
    "fancy_fig = plotly.express.scatter(\n",
    "    data_frame=gapminder[gapminder['year']==2007],\n",
    "    x='gdp_cap',\n",
    "    y='life_exp',\n",
    "    color='continent',\n",
    "    size='population',\n",
    "    hover_name='country',\n",
    "    size_max=75)\n",
    "fancy_fig.show()"
   ]
  },
  {
   "cell_type": "code",
   "execution_count": null,
   "metadata": {},
   "outputs": [],
   "source": [
    "#Now it animates the same display for each year from 1952-2007\n",
    "fancy_fig = plotly.express.scatter(\n",
    "    data_frame=gapminder,\n",
    "    x='gdp_cap',\n",
    "    y='life_exp',\n",
    "    color='continent',\n",
    "    size='population',\n",
    "    hover_name='country',\n",
    "    size_max=75,\n",
    "    animation_frame='year')\n",
    "fancy_fig.show()"
   ]
  },
  {
   "cell_type": "code",
   "execution_count": null,
   "metadata": {},
   "outputs": [],
   "source": []
  }
 ],
 "metadata": {
  "kernelspec": {
   "display_name": "Python 3",
   "language": "python",
   "name": "python3"
  },
  "language_info": {
   "codemirror_mode": {
    "name": "ipython",
    "version": 3
   },
   "file_extension": ".py",
   "mimetype": "text/x-python",
   "name": "python",
   "nbconvert_exporter": "python",
   "pygments_lexer": "ipython3",
   "version": "3.7.3"
  }
 },
 "nbformat": 4,
 "nbformat_minor": 2
}
